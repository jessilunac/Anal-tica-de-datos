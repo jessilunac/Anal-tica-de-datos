{
  "nbformat": 4,
  "nbformat_minor": 0,
  "metadata": {
    "colab": {
      "provenance": [],
      "authorship_tag": "ABX9TyPYGMPUZk4dwwnUijshE/gC",
      "include_colab_link": true
    },
    "kernelspec": {
      "name": "python3",
      "display_name": "Python 3"
    },
    "language_info": {
      "name": "python"
    }
  },
  "cells": [
    {
      "cell_type": "markdown",
      "metadata": {
        "id": "view-in-github",
        "colab_type": "text"
      },
      "source": [
        "<a href=\"https://colab.research.google.com/github/jessilunac/Anal-tica-de-datos/blob/main/Extracci%C3%B3n_de_datos.ipynb\" target=\"_parent\"><img src=\"https://colab.research.google.com/assets/colab-badge.svg\" alt=\"Open In Colab\"/></a>"
      ]
    },
    {
      "cell_type": "code",
      "execution_count": null,
      "metadata": {
        "id": "FsRmo8h6LB7Y"
      },
      "outputs": [],
      "source": [
        "#Importamos librerías requeridas\n",
        "import pandas as pd\n",
        "import numpy as np\n",
        "import matplotlib.pyplot as plt\n",
        "import seaborn as sns"
      ]
    },
    {
      "cell_type": "code",
      "source": [
        "#Cargar archivo csv desde equipo\n",
        "from google.colab import files\n",
        "files.upload()"
      ],
      "metadata": {
        "id": "rfuqREx2LcXb"
      },
      "execution_count": null,
      "outputs": []
    },
    {
      "cell_type": "code",
      "source": [
        "#Convertir en dataframe\n",
        "df= pd.read_csv(\"CountryTable.csv\")\n",
        "#df"
      ],
      "metadata": {
        "id": "VoU_cSHCMEEX"
      },
      "execution_count": null,
      "outputs": []
    },
    {
      "cell_type": "code",
      "source": [
        "#Imprimimos las primeras filas o registros del Dataframe\n",
        "df.head(5)"
      ],
      "metadata": {
        "id": "EzQeIRS-MMM2"
      },
      "execution_count": null,
      "outputs": []
    },
    {
      "cell_type": "markdown",
      "source": [
        "**Filtros basicos para variables cualitativas**"
      ],
      "metadata": {
        "id": "bY5iOldGMOyh"
      }
    },
    {
      "cell_type": "code",
      "source": [
        "#Filtro por objeto\n",
        "#Elegí la region y lo filtre para que me diera los del caribe\n",
        "filtro1=df[df[\"region\"] == \"Caribbean\"]\n",
        "filtro1"
      ],
      "metadata": {
        "id": "QeQ-59jfMUiZ"
      },
      "execution_count": null,
      "outputs": []
    },
    {
      "cell_type": "code",
      "source": [
        "#Filtro por filas\n",
        "#filtro2= df.iloc[300:302,: ]\n",
        "filtro2=df.iloc[ 5:16 , : ]  #filas no consecutivas\n",
        "filtro2"
      ],
      "metadata": {
        "id": "Ts25bA8yMgjs"
      },
      "execution_count": null,
      "outputs": []
    },
    {
      "cell_type": "code",
      "source": [
        "#Filtro por columnas\n",
        "#solo escogi la columna 1 y la 6 para que mostrara esas\n",
        "filtro3=df.iloc[ : , [1,6]]  #columnas no consecutivas\n",
        "filtro3"
      ],
      "metadata": {
        "id": "0wXhofPSMnqS"
      },
      "execution_count": null,
      "outputs": []
    },
    {
      "cell_type": "code",
      "source": [
        "df= pd.read_csv(\"CountryTable.csv\", index_col=2)\n",
        "df"
      ],
      "metadata": {
        "id": "o4bsOh8mMsq7"
      },
      "execution_count": null,
      "outputs": []
    },
    {
      "cell_type": "code",
      "source": [
        "#Paso 2: Aplicamos Filtro de filas vs columnas\n",
        "#escogi que me mostra solamente las filas de asia y europa y la columna de surface area\n",
        "filtro4=df.loc[[\"Asia\",\"Europe\"], [\"surface_area\"]]\n",
        "filtro4"
      ],
      "metadata": {
        "id": "kRxLWs8dM0K3"
      },
      "execution_count": null,
      "outputs": []
    },
    {
      "cell_type": "code",
      "source": [
        "#Filtro por cabecera\n",
        "filtro5=df.head(5)\n",
        "filtro5"
      ],
      "metadata": {
        "id": "03_CLDsvNG7O"
      },
      "execution_count": null,
      "outputs": []
    },
    {
      "cell_type": "markdown",
      "source": [
        "**Filtros basicos para variables cuantitativas**"
      ],
      "metadata": {
        "id": "qFD_7MRVNMEK"
      }
    },
    {
      "cell_type": "code",
      "source": [
        "#Filtro por comparacion\n",
        "#pedi que me mostrara solamente los que tuvieran mayor surface area de 2006\n",
        "filtro6=df[df[\"surface_area\"] > 2006]\n",
        "filtro6"
      ],
      "metadata": {
        "id": "Ro_viywYNRKR"
      },
      "execution_count": null,
      "outputs": []
    },
    {
      "cell_type": "markdown",
      "source": [
        "**Filtros basicos con conectores logicos**"
      ],
      "metadata": {
        "id": "6YZkCwCsNaYO"
      }
    },
    {
      "cell_type": "code",
      "source": [
        "#Filtro Y\n",
        "#le pedi que me mostrara los que tuvieran mayor surface area de 2006 y los que fueran de la region del caribe\n",
        "filtro7=df[(df[\"surface_area\"] > 2006) & (df[\"region\"] == \"Caribbean\")]\n",
        "filtro7"
      ],
      "metadata": {
        "id": "X-zAGkUqNfHH"
      },
      "execution_count": null,
      "outputs": []
    },
    {
      "cell_type": "code",
      "source": [
        "#Filtro o\n",
        "#le pedi que me mostrara los que tuvieran mayor surface area de 2006 o los que fueran de la region del caribe\n",
        "filtro8=df[(df[\"surface_area\"] > 2006) | (df[\"region\"] == \"Caribbean\")]\n",
        "filtro8"
      ],
      "metadata": {
        "id": "L2GKcM2RPBVI"
      },
      "execution_count": null,
      "outputs": []
    },
    {
      "cell_type": "code",
      "source": [
        "#Filtro not\n",
        "#le pedi que no me mostrara los que tuvieran mayor surface area de 2006 ni los que fueran de la region del caribe\n",
        "filtro9=df[~(df[\"surface_area\"] > 2006) & ~(df[\"region\"] == \"Caribbean\")]\n",
        "filtro9"
      ],
      "metadata": {
        "id": "kBUlUhnPPFuW"
      },
      "execution_count": null,
      "outputs": []
    },
    {
      "cell_type": "code",
      "source": [
        "#Convertir archivo filtrado a CSV\n",
        "filtro9.to_csv(\"Entregable1.csv\")"
      ],
      "metadata": {
        "id": "SVkCsvZXPNR5"
      },
      "execution_count": null,
      "outputs": []
    },
    {
      "cell_type": "code",
      "source": [
        "#descargar archivo filtrado en csv\n",
        "from google.colab import files\n",
        "\n",
        "\n",
        "files.download(\"Entregable1.csv\")"
      ],
      "metadata": {
        "colab": {
          "base_uri": "https://localhost:8080/",
          "height": 17
        },
        "id": "6QsfXxXIP8Oc",
        "outputId": "500c640d-4081-4a5b-e3c3-cbd385d69fcc"
      },
      "execution_count": null,
      "outputs": [
        {
          "output_type": "display_data",
          "data": {
            "text/plain": [
              "<IPython.core.display.Javascript object>"
            ],
            "application/javascript": [
              "\n",
              "    async function download(id, filename, size) {\n",
              "      if (!google.colab.kernel.accessAllowed) {\n",
              "        return;\n",
              "      }\n",
              "      const div = document.createElement('div');\n",
              "      const label = document.createElement('label');\n",
              "      label.textContent = `Downloading \"${filename}\": `;\n",
              "      div.appendChild(label);\n",
              "      const progress = document.createElement('progress');\n",
              "      progress.max = size;\n",
              "      div.appendChild(progress);\n",
              "      document.body.appendChild(div);\n",
              "\n",
              "      const buffers = [];\n",
              "      let downloaded = 0;\n",
              "\n",
              "      const channel = await google.colab.kernel.comms.open(id);\n",
              "      // Send a message to notify the kernel that we're ready.\n",
              "      channel.send({})\n",
              "\n",
              "      for await (const message of channel.messages) {\n",
              "        // Send a message to notify the kernel that we're ready.\n",
              "        channel.send({})\n",
              "        if (message.buffers) {\n",
              "          for (const buffer of message.buffers) {\n",
              "            buffers.push(buffer);\n",
              "            downloaded += buffer.byteLength;\n",
              "            progress.value = downloaded;\n",
              "          }\n",
              "        }\n",
              "      }\n",
              "      const blob = new Blob(buffers, {type: 'application/binary'});\n",
              "      const a = document.createElement('a');\n",
              "      a.href = window.URL.createObjectURL(blob);\n",
              "      a.download = filename;\n",
              "      div.appendChild(a);\n",
              "      a.click();\n",
              "      div.remove();\n",
              "    }\n",
              "  "
            ]
          },
          "metadata": {}
        },
        {
          "output_type": "display_data",
          "data": {
            "text/plain": [
              "<IPython.core.display.Javascript object>"
            ],
            "application/javascript": [
              "download(\"download_24f1f35c-6169-4983-ae7b-886e0f299e65\", \"Entregable1.csv\", 5535)"
            ]
          },
          "metadata": {}
        }
      ]
    }
  ]
}