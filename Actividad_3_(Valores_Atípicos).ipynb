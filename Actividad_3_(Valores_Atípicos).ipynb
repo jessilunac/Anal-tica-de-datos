{
  "nbformat": 4,
  "nbformat_minor": 0,
  "metadata": {
    "colab": {
      "provenance": [],
      "authorship_tag": "ABX9TyPGgTvEsb1ScR2lmne7srj4",
      "include_colab_link": true
    },
    "kernelspec": {
      "name": "python3",
      "display_name": "Python 3"
    },
    "language_info": {
      "name": "python"
    }
  },
  "cells": [
    {
      "cell_type": "markdown",
      "metadata": {
        "id": "view-in-github",
        "colab_type": "text"
      },
      "source": [
        "<a href=\"https://colab.research.google.com/github/jessilunac/Anal-tica-de-datos/blob/main/Actividad_3_(Valores_At%C3%ADpicos).ipynb\" target=\"_parent\"><img src=\"https://colab.research.google.com/assets/colab-badge.svg\" alt=\"Open In Colab\"/></a>"
      ]
    },
    {
      "cell_type": "code",
      "execution_count": 2,
      "metadata": {
        "id": "8kD8VqEB3_9Y"
      },
      "outputs": [],
      "source": [
        "#importamos librerías requeridas\n",
        "import pandas as pd\n",
        "import numpy as np\n",
        "import matplotlib.pyplot as plt\n",
        "import seaborn as sns"
      ]
    },
    {
      "cell_type": "code",
      "source": [
        "#cargar archivo csv desde equipo\n",
        "from google.colab import files\n",
        "files.upload()"
      ],
      "metadata": {
        "id": "Bfj1S9Mv6Bnh"
      },
      "execution_count": null,
      "outputs": []
    },
    {
      "cell_type": "code",
      "source": [
        "#Cargar desde un archivo .csv sin indice\n",
        "data= pd.read_csv('Ventastotales_sin_vnulos.csv')\n",
        "data"
      ],
      "metadata": {
        "id": "syYTOiyY6Y3Y"
      },
      "execution_count": null,
      "outputs": []
    },
    {
      "cell_type": "code",
      "source": [
        "#Corroboramos valores nulos\n",
        "valoresnulos=data.isnull().sum()\n",
        "valoresnulos"
      ],
      "metadata": {
        "id": "o_Ma0yRG6riH"
      },
      "execution_count": null,
      "outputs": []
    },
    {
      "cell_type": "markdown",
      "source": [
        "**SEPARAR EL DATAFRAME EN CUALITATIVAS Y CUANTITATIVAS**"
      ],
      "metadata": {
        "id": "JsD8Pq737BYk"
      }
    },
    {
      "cell_type": "code",
      "source": [
        "#Verificamos información del DataFrame\n",
        "data.info()"
      ],
      "metadata": {
        "id": "dRyfW44z7AfJ"
      },
      "execution_count": null,
      "outputs": []
    },
    {
      "cell_type": "code",
      "source": [
        "#obtenemos las variables cuantitativas\n",
        "cuantitativas=data.iloc[ : , [0,2,3,4,5,6,7,8,9,10,11,12,13,14,15,16,17,18,19,20,21,22,23,24]]\n",
        "cuantitativas"
      ],
      "metadata": {
        "id": "4wp09f_L7S_h"
      },
      "execution_count": null,
      "outputs": []
    },
    {
      "cell_type": "code",
      "source": [
        "#obtenemos las variables cualitativas\n",
        "cualitativas=data.iloc[ : , [1]]\n",
        "cualitativas"
      ],
      "metadata": {
        "id": "dbvm64jB70EF"
      },
      "execution_count": null,
      "outputs": []
    },
    {
      "cell_type": "code",
      "source": [
        "#hacemos el diagrama de caja de cada columna del dataframe\n",
        "fig = plt.figure(figsize =(15, 8))\n",
        "cuantitativas.plot(kind='box', vert=True)\n",
        "plt.title(\"valores atípicos del dataframe\")\n",
        "plt.show() #dibujamos el diagrama"
      ],
      "metadata": {
        "id": "JB5p-RLK75Bl"
      },
      "execution_count": null,
      "outputs": []
    },
    {
      "cell_type": "markdown",
      "source": [
        "**DESVIACIÓN ESTÁNDAR PARA ELIMINAR LOS OUTLINERS EN EL DATAFRAME**"
      ],
      "metadata": {
        "id": "ZJJmPvma7_nU"
      }
    },
    {
      "cell_type": "code",
      "source": [
        "#usamos la desviación estandar para encontrar los valores extremos\n",
        "y=cuantitativas\n",
        "limitesu= y.mean() + 3*y.std()\n",
        "limitein= y.mean() - 3*y.std()\n",
        "print(\"Limite superior\", limitesu)\n",
        "print(\"Limite inferior\", limitein)"
      ],
      "metadata": {
        "id": "D-M2wxnB8I9H"
      },
      "execution_count": null,
      "outputs": []
    },
    {
      "cell_type": "code",
      "source": [
        "# ajustamos el maximo de filas\n",
        "pd.options.display.max_rows = None"
      ],
      "metadata": {
        "id": "SHcORzrJ8Tjf"
      },
      "execution_count": 12,
      "outputs": []
    },
    {
      "cell_type": "code",
      "source": [
        "#obtenemos los datos y los outliers y se convierten en v.nulos en el DataFrame\n",
        "datossinout= cuantitativas[(y<=limitesu)&(y>=limitein)]\n",
        "datossinout"
      ],
      "metadata": {
        "id": "xCw4ShDK8W0G"
      },
      "execution_count": null,
      "outputs": []
    },
    {
      "cell_type": "code",
      "source": [
        "#corroboramos los valores nulos\n",
        "valoresnulos=datossinout.isnull().sum()\n",
        "valoresnulos"
      ],
      "metadata": {
        "id": "0b1PAppx8mzh"
      },
      "execution_count": null,
      "outputs": []
    },
    {
      "cell_type": "code",
      "source": [
        "#reemplazamos los valores nulos del dataframe con mean y hacemos una copia\n",
        "dataclean=datossinout.copy()\n",
        "dataclean=dataclean.fillna(round(datossinout.mean(),1))\n",
        "dataclean"
      ],
      "metadata": {
        "id": "KwQqYMJy8sSn"
      },
      "execution_count": null,
      "outputs": []
    },
    {
      "cell_type": "code",
      "source": [
        "#Corroboramos valores nulos\n",
        "valoresnulos=dataclean.isnull().sum()\n",
        "valoresnulos"
      ],
      "metadata": {
        "id": "xgYUCocI-S_2"
      },
      "execution_count": null,
      "outputs": []
    },
    {
      "cell_type": "markdown",
      "source": [
        "**UNIMOS EL DATAFRAME CUALITATIVO CON EL CUANTITATIVO**"
      ],
      "metadata": {
        "id": "2x1vvmol-dT6"
      }
    },
    {
      "cell_type": "code",
      "source": [
        "dataframef = pd.concat([cualitativas, dataclean], axis=1)\n",
        "dataframef"
      ],
      "metadata": {
        "id": "lQQEdbrD-nVM"
      },
      "execution_count": null,
      "outputs": []
    },
    {
      "cell_type": "markdown",
      "source": [
        "**DESCARGAMOS EL DATAFRAME**"
      ],
      "metadata": {
        "id": "HrSZl9P8-370"
      }
    },
    {
      "cell_type": "code",
      "source": [
        "#Convertir DataFrame a CSV\n",
        "dataframef.to_csv(\"DataframeFINAL.csv\")"
      ],
      "metadata": {
        "id": "-sY6afv4-28H"
      },
      "execution_count": 29,
      "outputs": []
    },
    {
      "cell_type": "code",
      "source": [
        "#descargar archivo filtrado en csv\n",
        "from google.colab import files\n",
        "\n",
        "\n",
        "files.download(\"DataframeFINAL.csv\")"
      ],
      "metadata": {
        "colab": {
          "base_uri": "https://localhost:8080/",
          "height": 17
        },
        "id": "vYlbpv_8_oRx",
        "outputId": "9f688cba-d837-4fe4-efcf-57a6a4490b21"
      },
      "execution_count": 30,
      "outputs": [
        {
          "output_type": "display_data",
          "data": {
            "text/plain": [
              "<IPython.core.display.Javascript object>"
            ],
            "application/javascript": [
              "\n",
              "    async function download(id, filename, size) {\n",
              "      if (!google.colab.kernel.accessAllowed) {\n",
              "        return;\n",
              "      }\n",
              "      const div = document.createElement('div');\n",
              "      const label = document.createElement('label');\n",
              "      label.textContent = `Downloading \"${filename}\": `;\n",
              "      div.appendChild(label);\n",
              "      const progress = document.createElement('progress');\n",
              "      progress.max = size;\n",
              "      div.appendChild(progress);\n",
              "      document.body.appendChild(div);\n",
              "\n",
              "      const buffers = [];\n",
              "      let downloaded = 0;\n",
              "\n",
              "      const channel = await google.colab.kernel.comms.open(id);\n",
              "      // Send a message to notify the kernel that we're ready.\n",
              "      channel.send({})\n",
              "\n",
              "      for await (const message of channel.messages) {\n",
              "        // Send a message to notify the kernel that we're ready.\n",
              "        channel.send({})\n",
              "        if (message.buffers) {\n",
              "          for (const buffer of message.buffers) {\n",
              "            buffers.push(buffer);\n",
              "            downloaded += buffer.byteLength;\n",
              "            progress.value = downloaded;\n",
              "          }\n",
              "        }\n",
              "      }\n",
              "      const blob = new Blob(buffers, {type: 'application/binary'});\n",
              "      const a = document.createElement('a');\n",
              "      a.href = window.URL.createObjectURL(blob);\n",
              "      a.download = filename;\n",
              "      div.appendChild(a);\n",
              "      a.click();\n",
              "      div.remove();\n",
              "    }\n",
              "  "
            ]
          },
          "metadata": {}
        },
        {
          "output_type": "display_data",
          "data": {
            "text/plain": [
              "<IPython.core.display.Javascript object>"
            ],
            "application/javascript": [
              "download(\"download_cd6a65f9-3382-4020-ad85-e4b3e6b2d218\", \"DataframeFINAL.csv\", 18780)"
            ]
          },
          "metadata": {}
        }
      ]
    }
  ]
}