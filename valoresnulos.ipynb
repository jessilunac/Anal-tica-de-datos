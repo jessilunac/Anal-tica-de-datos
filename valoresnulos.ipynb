{
  "nbformat": 4,
  "nbformat_minor": 0,
  "metadata": {
    "colab": {
      "provenance": [],
      "authorship_tag": "ABX9TyMV0W4JNGQRwGWJDi8UffAD",
      "include_colab_link": true
    },
    "kernelspec": {
      "name": "python3",
      "display_name": "Python 3"
    },
    "language_info": {
      "name": "python"
    }
  },
  "cells": [
    {
      "cell_type": "markdown",
      "metadata": {
        "id": "view-in-github",
        "colab_type": "text"
      },
      "source": [
        "<a href=\"https://colab.research.google.com/github/jessilunac/Anal-tica-de-datos/blob/main/valoresnulos.ipynb\" target=\"_parent\"><img src=\"https://colab.research.google.com/assets/colab-badge.svg\" alt=\"Open In Colab\"/></a>"
      ]
    },
    {
      "cell_type": "code",
      "execution_count": 1,
      "metadata": {
        "id": "tY7gVsvgDi0t"
      },
      "outputs": [],
      "source": [
        "#importamos librerías requeridas\n",
        "import pandas as pd\n",
        "import numpy as np\n",
        "import matplotlib.pyplot as plt\n",
        "import seaborn as sns"
      ]
    },
    {
      "cell_type": "code",
      "source": [
        "#cargar archivo csv desde equipo\n",
        "from google.colab import files\n",
        "files.upload()"
      ],
      "metadata": {
        "id": "iT0cg-LdEVEt"
      },
      "execution_count": null,
      "outputs": []
    },
    {
      "cell_type": "code",
      "source": [
        "#cargar desde un archivo .csv sin indice\n",
        "data = pd.read_csv('Ventas_totales.csv')\n",
        "data.head(5)"
      ],
      "metadata": {
        "id": "M92wZSAfEVn7"
      },
      "execution_count": null,
      "outputs": []
    },
    {
      "cell_type": "code",
      "source": [
        "#ver valores nulos por columna\n",
        "valores_nulos=data.isnull().sum()\n",
        "valores_nulos"
      ],
      "metadata": {
        "id": "0tXLVNDUFPDR"
      },
      "execution_count": null,
      "outputs": []
    },
    {
      "cell_type": "markdown",
      "source": [
        "**SUSTITUCIÓN DE VALORES NULOS**"
      ],
      "metadata": {
        "id": "Mcr59SRoFXpd"
      }
    },
    {
      "cell_type": "code",
      "source": [
        "#hacemos una copia del dataframe\n",
        "data1=data.copy()"
      ],
      "metadata": {
        "id": "Vx1CQ7SpFca7"
      },
      "execution_count": 5,
      "outputs": []
    },
    {
      "cell_type": "code",
      "source": [
        "#en los valores de \"otros\" ponemos el promedio o media de esta\n",
        "data1[\"otros\"]=data1[\"otros\"].fillna(round(data[\"otros\"].mean(),1))"
      ],
      "metadata": {
        "id": "djUeEcxKGVEA"
      },
      "execution_count": 12,
      "outputs": []
    },
    {
      "cell_type": "code",
      "source": [
        "#en los valores nulos de \"lacteos\" pinemos elo \"5\"\n",
        "data1[\"lacteos\"]= data1[\"lacteos\"].fillna(5)"
      ],
      "metadata": {
        "id": "r7MEkOGoNgvs"
      },
      "execution_count": 13,
      "outputs": []
    },
    {
      "cell_type": "code",
      "source": [
        "#en los valores de \"tarjetas_debito\"ponemosvalores no nulos para adelante con \"forward fill\"\n",
        "data1[\"tarjetas_debito\"] =data1[\"tarjetas_debito\"].fillna(method=\"ffill\")"
      ],
      "metadata": {
        "id": "X-IN-usHL8jC"
      },
      "execution_count": 14,
      "outputs": []
    },
    {
      "cell_type": "code",
      "source": [
        "#en los valores de \"tarjetas_credito\" ponemos valores no nulos hacia atrás con backward fill\"\n",
        "data1[\"tarjetas_credito\"] =data1[\"tarjetas_credito\"].fillna(method=\"bfill\")"
      ],
      "metadata": {
        "id": "y32qx1WGMFb1"
      },
      "execution_count": 15,
      "outputs": []
    },
    {
      "cell_type": "code",
      "source": [
        "#en los valores nulos de \"subtotal_ventas_alimentos_bebidas\" ponemos la mediana\n",
        "data1[\"subtotal_ventas_alimentos_bebidas\"]=data1[\"subtotal_ventas_alimentos_bebidas\"].fillna(round(data[\"subtotal_ventas_alimentos_bebidas\"].median(),1))"
      ],
      "metadata": {
        "id": "m2zvMsZDMxRc"
      },
      "execution_count": 16,
      "outputs": []
    },
    {
      "cell_type": "code",
      "source": [
        "#en los valores nulos de\"verduleria_fruteria\" ponemos valores no nulos hacia atrás \"backward fill\"\n",
        "data1[\"verduleria_fruteria\"] =data1[\"verduleria_fruteria\"].fillna(method=\"bfill\")"
      ],
      "metadata": {
        "id": "C6D0Ur4wNx_x"
      },
      "execution_count": 17,
      "outputs": []
    },
    {
      "cell_type": "code",
      "source": [
        "#en los valores nulos de \"indumentaria_calzado_textiles_hogar\" ponemos el valor numérico \"10\"\n",
        "data1[\"indumentaria_calzado_textiles_hogar\"]= data1[\"indumentaria_calzado_textiles_hogar\"].fillna(10)"
      ],
      "metadata": {
        "id": "9_WpD86FLp7l"
      },
      "execution_count": 18,
      "outputs": []
    },
    {
      "cell_type": "code",
      "source": [
        "#en los valores nulos de \"salon_ventas\" ponemos el string \"27591730.13 \"\n",
        "data1[\"salon_ventas\"] =data1[\"salon_ventas\"].fillna(\"27591730.13\")"
      ],
      "metadata": {
        "id": "IjozRfQ-L0aD"
      },
      "execution_count": 20,
      "outputs": []
    },
    {
      "cell_type": "code",
      "source": [
        "#en los valores nulos de \"bebidas\" por el \"9\"\n",
        "data1[\"bebidas\"]= data1[\"bebidas\"].fillna(9)"
      ],
      "metadata": {
        "id": "sCMR7HYrNB69"
      },
      "execution_count": 21,
      "outputs": []
    },
    {
      "cell_type": "code",
      "source": [
        "#en los valores nulos de \"carnes\" ponemos valores no nulos hacia adelante \"forward fill\"\n",
        "data1[\"carnes\"] =data1[\"carnes\"].fillna(method=\"ffill\")"
      ],
      "metadata": {
        "id": "5MDuzUQSNpWz"
      },
      "execution_count": 22,
      "outputs": []
    },
    {
      "cell_type": "code",
      "source": [
        "#en los valores nulos de \"panaderia\" ponemos valores no nulos hacia atrás \"backward fill\"\n",
        "data1[\"panaderia\"] =data1[\"panaderia\"].fillna(method=\"bfill\")"
      ],
      "metadata": {
        "id": "k8xIr046NYfu"
      },
      "execution_count": 23,
      "outputs": []
    },
    {
      "cell_type": "code",
      "source": [
        "# en los valores nulos de \"alimentos_preparados_rotiseria\" ponemos valores no nulos hacia atrás \"backward fill\"\n",
        "data1[\"alimentos_preparados_rotiseria\"] =data1[\"alimentos_preparados_rotiseria\"].fillna(method=\"bfill\")"
      ],
      "metadata": {
        "id": "tY5tVqFnOLmA"
      },
      "execution_count": 24,
      "outputs": []
    },
    {
      "cell_type": "code",
      "source": [
        "#en los valores nulos de \"otros_medios\" ponemos la media\n",
        "data1[\"otros_medios\"]=data1[\"otros_medios\"].fillna(round(data1[\"otros_medios\"].mean(),1))"
      ],
      "metadata": {
        "id": "8PqKJY3dMld0"
      },
      "execution_count": 25,
      "outputs": []
    },
    {
      "cell_type": "code",
      "source": [
        "#en los valores nulos de \"electronicos_articulos_hogar\" ponemos la media\n",
        "data1[\"electronicos_articulos_hogar\"]=data1[\"electronicos_articulos_hogar\"].fillna(round(data[\"electronicos_articulos_hogar\"].median(),1))"
      ],
      "metadata": {
        "id": "W3hginlxK-H2"
      },
      "execution_count": 26,
      "outputs": []
    },
    {
      "cell_type": "code",
      "source": [
        "#en los valores nulos de \"alamacen\" ponemos valores no nulos hacia adelante \"forward fill\"\n",
        "data1[\"almacen\"] =data1[\"almacen\"].fillna(method=\"ffill\")"
      ],
      "metadata": {
        "id": "Vibjq8FqNH-J"
      },
      "execution_count": 27,
      "outputs": []
    },
    {
      "cell_type": "code",
      "source": [
        "#vemos los valores nulos\n",
        "valores_nulos=data1.isnull().sum()\n",
        "valores_nulos"
      ],
      "metadata": {
        "id": "tJ7uK5zdOfVz"
      },
      "execution_count": null,
      "outputs": []
    },
    {
      "cell_type": "code",
      "source": [
        "#checamos los valores nulos en todo el dataframe\n",
        "valores_nulos=data1.isnull().sum().sum()\n",
        "valores_nulos"
      ],
      "metadata": {
        "id": "wRfWgkAdOl2s"
      },
      "execution_count": null,
      "outputs": []
    },
    {
      "cell_type": "markdown",
      "source": [
        "**ELIMINACIÓN DE VALORES NULOS**"
      ],
      "metadata": {
        "id": "k57t3kjGOqqC"
      }
    },
    {
      "cell_type": "code",
      "source": [
        "#vemos valores nulos por columna\n",
        "valores_nulos=data1.isnull().sum()\n",
        "valores_nulos"
      ],
      "metadata": {
        "id": "KSw79ZmkO9CR"
      },
      "execution_count": null,
      "outputs": []
    },
    {
      "cell_type": "code",
      "source": [
        "#hacemos una copia del dataframe\n",
        "data2=data.copy()"
      ],
      "metadata": {
        "id": "3vMdCbCvPBxI"
      },
      "execution_count": 31,
      "outputs": []
    },
    {
      "cell_type": "code",
      "source": [
        "#quitamos las fila con nulos\n",
        "data2= data.dropna()\n",
        "data2"
      ],
      "metadata": {
        "id": "X9d9ZZ6YPD36"
      },
      "execution_count": null,
      "outputs": []
    },
    {
      "cell_type": "code",
      "source": [
        "#vemoslos valores nulos por columna\n",
        "valores_nulos=data2.isnull().sum()\n",
        "valores_nulos"
      ],
      "metadata": {
        "id": "Amzt-5bpPPZV"
      },
      "execution_count": null,
      "outputs": []
    },
    {
      "cell_type": "markdown",
      "source": [
        "**COMPARAMOS**"
      ],
      "metadata": {
        "id": "jE4cnUquPcr5"
      }
    },
    {
      "cell_type": "code",
      "source": [
        "data1.info()"
      ],
      "metadata": {
        "id": "WalzyJH0PWk6"
      },
      "execution_count": null,
      "outputs": []
    },
    {
      "cell_type": "code",
      "source": [
        "data2.info()"
      ],
      "metadata": {
        "id": "eXPCtOt3Plda"
      },
      "execution_count": null,
      "outputs": []
    },
    {
      "cell_type": "markdown",
      "source": [
        "**CONVERTIMOS LOS DATASET SIN VALORES NULOS A CSV**"
      ],
      "metadata": {
        "id": "rClFzpknPnr9"
      }
    },
    {
      "cell_type": "code",
      "source": [
        "#Convertir el DataFrame a CSV\n",
        "data1.to_csv(\"Ventastotales_sin_vnulos.csv\")"
      ],
      "metadata": {
        "id": "PL1H0tLCPvZK"
      },
      "execution_count": 38,
      "outputs": []
    },
    {
      "cell_type": "code",
      "source": [
        "#Descargamos el archivo filtrado en csv\n",
        "from google.colab import files\n",
        "\n",
        "\n",
        "files.download(\"Ventastotales_sin_vnulos.csv\")"
      ],
      "metadata": {
        "colab": {
          "base_uri": "https://localhost:8080/",
          "height": 17
        },
        "id": "LJBly5dOP2bR",
        "outputId": "98001bcf-ce0c-47f5-8a72-2e36b60b9d95"
      },
      "execution_count": 40,
      "outputs": [
        {
          "output_type": "display_data",
          "data": {
            "text/plain": [
              "<IPython.core.display.Javascript object>"
            ],
            "application/javascript": [
              "\n",
              "    async function download(id, filename, size) {\n",
              "      if (!google.colab.kernel.accessAllowed) {\n",
              "        return;\n",
              "      }\n",
              "      const div = document.createElement('div');\n",
              "      const label = document.createElement('label');\n",
              "      label.textContent = `Downloading \"${filename}\": `;\n",
              "      div.appendChild(label);\n",
              "      const progress = document.createElement('progress');\n",
              "      progress.max = size;\n",
              "      div.appendChild(progress);\n",
              "      document.body.appendChild(div);\n",
              "\n",
              "      const buffers = [];\n",
              "      let downloaded = 0;\n",
              "\n",
              "      const channel = await google.colab.kernel.comms.open(id);\n",
              "      // Send a message to notify the kernel that we're ready.\n",
              "      channel.send({})\n",
              "\n",
              "      for await (const message of channel.messages) {\n",
              "        // Send a message to notify the kernel that we're ready.\n",
              "        channel.send({})\n",
              "        if (message.buffers) {\n",
              "          for (const buffer of message.buffers) {\n",
              "            buffers.push(buffer);\n",
              "            downloaded += buffer.byteLength;\n",
              "            progress.value = downloaded;\n",
              "          }\n",
              "        }\n",
              "      }\n",
              "      const blob = new Blob(buffers, {type: 'application/binary'});\n",
              "      const a = document.createElement('a');\n",
              "      a.href = window.URL.createObjectURL(blob);\n",
              "      a.download = filename;\n",
              "      div.appendChild(a);\n",
              "      a.click();\n",
              "      div.remove();\n",
              "    }\n",
              "  "
            ]
          },
          "metadata": {}
        },
        {
          "output_type": "display_data",
          "data": {
            "text/plain": [
              "<IPython.core.display.Javascript object>"
            ],
            "application/javascript": [
              "download(\"download_0e5b99a3-9762-4c6b-9a8f-01987b163294\", \"Ventastotales_sin_vnulos.csv\", 18590)"
            ]
          },
          "metadata": {}
        }
      ]
    }
  ]
}